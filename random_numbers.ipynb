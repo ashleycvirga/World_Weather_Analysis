{
 "cells": [
  {
   "cell_type": "code",
   "execution_count": 1,
   "id": "57216fae",
   "metadata": {},
   "outputs": [],
   "source": [
    "# Import the random module.\n",
    "import random"
   ]
  },
  {
   "cell_type": "code",
   "execution_count": 12,
   "id": "44a32702",
   "metadata": {},
   "outputs": [
    {
     "data": {
      "text/plain": [
       "-72"
      ]
     },
     "execution_count": 12,
     "metadata": {},
     "output_type": "execute_result"
    }
   ],
   "source": [
    "# The randint() Function is short for \"random integer.\"\n",
    "random.randint(-90, 90)"
   ]
  },
  {
   "cell_type": "code",
   "execution_count": null,
   "id": "40ffc5eb",
   "metadata": {},
   "outputs": [],
   "source": [
    "# we need 1,500 random decimal numbers."
   ]
  },
  {
   "cell_type": "code",
   "execution_count": 17,
   "id": "7ee30668",
   "metadata": {},
   "outputs": [
    {
     "data": {
      "text/plain": [
       "0.9932642800092989"
      ]
     },
     "execution_count": 17,
     "metadata": {},
     "output_type": "execute_result"
    }
   ],
   "source": [
    "# The random() Function \n",
    "# Using the random() function, we can get a single floating-point decimal number between 0 and 1.0.\n",
    "random.random()"
   ]
  },
  {
   "cell_type": "code",
   "execution_count": 22,
   "id": "408d6623",
   "metadata": {},
   "outputs": [
    {
     "data": {
      "text/plain": [
       "47.810776962891026"
      ]
     },
     "execution_count": 22,
     "metadata": {},
     "output_type": "execute_result"
    }
   ],
   "source": [
    "# Combine the two functions\n",
    "random_number = random.randint(-90, 89) + random.random()\n",
    "random_number "
   ]
  },
  {
   "cell_type": "code",
   "execution_count": 25,
   "id": "87dae82d",
   "metadata": {},
   "outputs": [
    {
     "data": {
      "text/plain": [
       "[-33.511438716564754,\n",
       " 69.41762836554348,\n",
       " -6.447577429002199,\n",
       " -74.02986523808629,\n",
       " -73.06208375584477,\n",
       " 70.84846142903054,\n",
       " 55.94816712448373,\n",
       " -72.35732409443509,\n",
       " -79.022189596105,\n",
       " -68.41853369189224]"
      ]
     },
     "execution_count": 25,
     "metadata": {},
     "output_type": "execute_result"
    }
   ],
   "source": [
    "# Using these two functions, we can write an algorithm that will generate latitudes between -90 and 89. \n",
    "# Here is a small sample of what it might take to generate ten random floating-point decimal latitudes between \n",
    "# -90 and 89.\n",
    "x = 1\n",
    "latitudes = []\n",
    "while x < 11:\n",
    "    random_lat = random.randint(-90, 89) + random.random()\n",
    "    latitudes.append(random_lat)\n",
    "    x += 1\n",
    "latitudes"
   ]
  },
  {
   "cell_type": "code",
   "execution_count": 29,
   "id": "e4072131",
   "metadata": {},
   "outputs": [
    {
     "data": {
      "text/plain": [
       "-54"
      ]
     },
     "execution_count": 29,
     "metadata": {},
     "output_type": "execute_result"
    }
   ],
   "source": [
    "# The randrange() function behaves differently than the previous two functions. Inside the parentheses, we need to add \n",
    "# two numbers, a lower and upper limit, separated by a comma.\n",
    "# For the randrange() function, there is an option to add a step parameter and set it equal to an integer, which will \n",
    "# generate increments of a given integer value, from the lower to the upper limit.\n",
    "random.randrange(-90, 90, step=1)"
   ]
  },
  {
   "cell_type": "code",
   "execution_count": 48,
   "id": "285d7687",
   "metadata": {},
   "outputs": [],
   "source": [
    "# If you don't add the step parameter, the output will be a number with an increment of 1, which is the default integer\n",
    "# value."
   ]
  },
  {
   "cell_type": "code",
   "execution_count": 47,
   "id": "8706f746",
   "metadata": {},
   "outputs": [
    {
     "data": {
      "text/plain": [
       "-75"
      ]
     },
     "execution_count": 47,
     "metadata": {},
     "output_type": "execute_result"
    }
   ],
   "source": [
    "random.randrange(-90, 90, step=3)"
   ]
  },
  {
   "cell_type": "code",
   "execution_count": 49,
   "id": "f258fc23",
   "metadata": {},
   "outputs": [
    {
     "data": {
      "text/plain": [
       "-43.738459302928035"
      ]
     },
     "execution_count": 49,
     "metadata": {},
     "output_type": "execute_result"
    }
   ],
   "source": [
    "# The uniform() function will allow us to generate a floating-point decimal number between two given numbers inside \n",
    "# the parentheses.\n",
    "random.uniform(-90, 90)"
   ]
  },
  {
   "cell_type": "code",
   "execution_count": null,
   "id": "42bff703",
   "metadata": {},
   "outputs": [],
   "source": [
    "# The uniform() function could prove to be quite useful because it will return a floating-point decimal number!"
   ]
  },
  {
   "cell_type": "code",
   "execution_count": 50,
   "id": "fa41e247",
   "metadata": {},
   "outputs": [],
   "source": [
    "# Import the NumPy module.\n",
    "import numpy as np"
   ]
  },
  {
   "cell_type": "code",
   "execution_count": 56,
   "id": "06458e6c",
   "metadata": {},
   "outputs": [
    {
     "data": {
      "text/plain": [
       "56.12539241033966"
      ]
     },
     "execution_count": 56,
     "metadata": {},
     "output_type": "execute_result"
    }
   ],
   "source": [
    "np.random.uniform(-90.000, 90.000)"
   ]
  },
  {
   "cell_type": "code",
   "execution_count": 60,
   "id": "75be8a9d",
   "metadata": {},
   "outputs": [
    {
     "data": {
      "text/plain": [
       "60.03602095783424"
      ]
     },
     "execution_count": 60,
     "metadata": {},
     "output_type": "execute_result"
    }
   ],
   "source": [
    "np.random.uniform(low=-90, high=90)"
   ]
  },
  {
   "cell_type": "code",
   "execution_count": 68,
   "id": "a4ee422c",
   "metadata": {},
   "outputs": [
    {
     "data": {
      "text/plain": [
       "array([ 30.12334431,  -1.04915876,  68.92469599,  88.33843486,\n",
       "       -51.53656559, -23.59502504,  84.43910944, -46.78169974,\n",
       "       -68.75057707, -85.13333645,   3.19425659, -34.13138722,\n",
       "       -44.48127746,  86.20936948,  21.72331948,  45.64815323,\n",
       "        73.34304897,  13.71671752, -35.77857428,  32.44676364,\n",
       "        48.22463628, -71.9790132 ,  89.19754067,  45.88540689,\n",
       "        41.42392366, -53.69559404,  -1.19075747,   5.34595044,\n",
       "       -88.89524542, -86.67722504,  89.26491549,  17.25430729,\n",
       "        -7.8548258 ,  89.19690105, -23.59375216, -41.24157443,\n",
       "        51.95461019, -71.85800376,   3.14539597, -63.974604  ,\n",
       "        42.18185385,  66.27069215, -34.02200739, -34.36021827,\n",
       "       -10.99875691,  51.38695823,  18.9771625 ,  43.63611866,\n",
       "       -31.71774203,   1.24813846])"
      ]
     },
     "execution_count": 68,
     "metadata": {},
     "output_type": "execute_result"
    }
   ],
   "source": [
    "np.random.uniform(-90.000, 90.000, size=50)"
   ]
  },
  {
   "cell_type": "code",
   "execution_count": 66,
   "id": "ac4f48ba",
   "metadata": {},
   "outputs": [],
   "source": [
    "# Import timeit.\n",
    "import timeit"
   ]
  },
  {
   "cell_type": "code",
   "execution_count": 67,
   "id": "2b10c59d",
   "metadata": {},
   "outputs": [
    {
     "name": "stdout",
     "output_type": "stream",
     "text": [
      "14.8 µs ± 418 ns per loop (mean ± std. dev. of 7 runs, 100000 loops each)\n"
     ]
    }
   ],
   "source": [
    "%timeit np.random.uniform(-90.000, 90.000, size=1500)"
   ]
  },
  {
   "cell_type": "code",
   "execution_count": 69,
   "id": "7a644639",
   "metadata": {},
   "outputs": [
    {
     "name": "stdout",
     "output_type": "stream",
     "text": [
      "1.79 ms ± 25.1 µs per loop (mean ± std. dev. of 7 runs, 1000 loops each)\n"
     ]
    }
   ],
   "source": [
    "def latitudes(size):\n",
    "    latitudes = []\n",
    "    x = 0\n",
    "    while x < (size):\n",
    "        random_lat = random.randint(-90, 90) + random.random()\n",
    "        latitudes.append(random_lat)\n",
    "        x += 1\n",
    "    return latitudes\n",
    "# Call the function with 1500.\n",
    "%timeit latitudes(1500)"
   ]
  }
 ],
 "metadata": {
  "kernelspec": {
   "display_name": "PythonData",
   "language": "python",
   "name": "pythondata"
  },
  "language_info": {
   "codemirror_mode": {
    "name": "ipython",
    "version": 3
   },
   "file_extension": ".py",
   "mimetype": "text/x-python",
   "name": "python",
   "nbconvert_exporter": "python",
   "pygments_lexer": "ipython3",
   "version": "3.7.13"
  }
 },
 "nbformat": 4,
 "nbformat_minor": 5
}
